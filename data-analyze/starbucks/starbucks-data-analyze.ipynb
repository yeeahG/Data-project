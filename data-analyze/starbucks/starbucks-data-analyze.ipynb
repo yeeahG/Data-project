{
 "cells": [
  {
   "cell_type": "markdown",
   "id": "3eb083ad",
   "metadata": {},
   "source": [
    "## Starbucks data analyze\n",
    "* 년, 월별 매장 오픈 개수를 분석하고 결과를 라인 차트로 나타냄"
   ]
  },
  {
   "cell_type": "code",
   "execution_count": 14,
   "id": "a2e893e8",
   "metadata": {},
   "outputs": [],
   "source": [
    "import requests\n",
    "import matplotlib.pyplot as plt\n",
    "import pandas as pd"
   ]
  },
  {
   "cell_type": "code",
   "execution_count": 3,
   "id": "7e63a6d7",
   "metadata": {},
   "outputs": [],
   "source": [
    "url= 'https://www.starbucks.co.kr/store/getStore.do?r=804IUG79N7'\n",
    "payload = {\n",
    "    'in_biz_cds' : '0',\n",
    "    'in_scodes' : '0',\n",
    "    'ins_lat' : '37.5627128',\n",
    "    'ins_lng' : '126.93279869999999',\n",
    "    'search_text' : '',\n",
    "    'p_sido_cd' : '01',\n",
    "    'p_gugun_cd' : '',\n",
    "    'in_distance' : '0',\n",
    "    'in_biz_cd' : '',\n",
    "    'isError' : 'true',\n",
    "    'searchType' : 'C',\n",
    "    'set_date' : '',\n",
    "    'all_store' : '0',\n",
    "    'T03' : '0',\n",
    "    'T01' : '0',\n",
    "    'T12' : '0',\n",
    "    'T09' : '0',\n",
    "    'T30' : '0',\n",
    "    'T05' : '0',\n",
    "    'T22' : '0',\n",
    "    'T21' : '0',\n",
    "    'T10' : '0',\n",
    "    'T36' : '0',\n",
    "    'P10' : '0',\n",
    "    'P50' : '0',\n",
    "    'P20' : '0',\n",
    "    'P60' : '0',\n",
    "    'P30' : '0',\n",
    "    'P70' : '0',\n",
    "    'P40' : '0',\n",
    "    'P80' : '0',\n",
    "    'whcroad_yn' : '0',\n",
    "    'P90' : '0',\n",
    "    'new_bool' : '0',\n",
    "    'iend' : '1000',\n",
    "    'rndCod' : 'V8UNZFKU44',}"
   ]
  },
  {
   "cell_type": "code",
   "execution_count": 4,
   "id": "5e27e263",
   "metadata": {
    "scrolled": true
   },
   "outputs": [],
   "source": [
    "r = requests.post(url, data=payload)\n",
    "rt_dict = r.json()\n",
    "#rt_dict['list']"
   ]
  },
  {
   "cell_type": "code",
   "execution_count": 6,
   "id": "82264103",
   "metadata": {},
   "outputs": [
    {
     "data": {
      "text/plain": [
       "577"
      ]
     },
     "execution_count": 6,
     "metadata": {},
     "output_type": "execute_result"
    }
   ],
   "source": [
    "len(rt_dict['list'])\n",
    "# 스타벅스의 전체 매장수"
   ]
  },
  {
   "cell_type": "code",
   "execution_count": 7,
   "id": "3365f67a",
   "metadata": {},
   "outputs": [
    {
     "data": {
      "text/plain": [
       "dict"
      ]
     },
     "execution_count": 7,
     "metadata": {},
     "output_type": "execute_result"
    }
   ],
   "source": [
    "type(rt_dict)"
   ]
  },
  {
   "cell_type": "markdown",
   "id": "356c7847",
   "metadata": {},
   "source": [
    "### 🔍스타벅스 매장이 많이 오픈 된 년, 달은 언제일까?"
   ]
  },
  {
   "cell_type": "code",
   "execution_count": 8,
   "id": "106a22b8",
   "metadata": {},
   "outputs": [
    {
     "data": {
      "text/plain": [
       "'201906'"
      ]
     },
     "execution_count": 8,
     "metadata": {},
     "output_type": "execute_result"
    }
   ],
   "source": [
    "rt_dict['list'][0]['open_dt'][:-2]"
   ]
  },
  {
   "cell_type": "code",
   "execution_count": 10,
   "id": "e713d81e",
   "metadata": {},
   "outputs": [],
   "source": [
    "month_1 = []\n",
    "month_2 = []\n",
    "\n",
    "for i in range(1, len(rt_dict['list'])):\n",
    "    month_1.append(rt_dict['list'][i]['open_dt'][:-2])\n",
    "    for j in month_1:\n",
    "        if j not in month_2:\n",
    "            month_2.append(j)\n",
    "#print(month_1)"
   ]
  },
  {
   "cell_type": "code",
   "execution_count": 11,
   "id": "7b126d6d",
   "metadata": {
    "scrolled": true
   },
   "outputs": [],
   "source": [
    "month_starbucks = {}\n",
    "for i in month_2:\n",
    "    month_starbucks[i] = 0\n",
    "#print(month_starbucks)"
   ]
  },
  {
   "cell_type": "code",
   "execution_count": 12,
   "id": "81a690eb",
   "metadata": {},
   "outputs": [
    {
     "data": {
      "text/plain": [
       "{'201811': 0,\n",
       " '201912': 0,\n",
       " '201907': 0,\n",
       " '201902': 0,\n",
       " '202005': 0,\n",
       " '202004': 0,\n",
       " '201808': 0,\n",
       " '201806': 0,\n",
       " '201803': 0,\n",
       " '201708': 0,\n",
       " '201705': 0,\n",
       " '201703': 0,\n",
       " '201608': 0,\n",
       " '201612': 0,\n",
       " '201606': 0,\n",
       " '201611': 0,\n",
       " '201509': 0,\n",
       " '201605': 0,\n",
       " '201602': 0,\n",
       " '201504': 0,\n",
       " '201412': 0,\n",
       " '201408': 0,\n",
       " '201407': 0,\n",
       " '201402': 0,\n",
       " '201311': 0,\n",
       " '201403': 0,\n",
       " '201310': 0,\n",
       " '201306': 0,\n",
       " '201307': 0,\n",
       " '201309': 0,\n",
       " '201304': 0,\n",
       " '200408': 0,\n",
       " '200305': 0,\n",
       " '200301': 0,\n",
       " '200203': 0,\n",
       " '200111': 0,\n",
       " '200103': 0,\n",
       " '200712': 0,\n",
       " '200805': 0,\n",
       " '200503': 0,\n",
       " '200504': 0,\n",
       " '200505': 0,\n",
       " '200604': 0,\n",
       " '200602': 0,\n",
       " '200812': 0,\n",
       " '200508': 0,\n",
       " '200412': 0,\n",
       " '200411': 0,\n",
       " '201202': 0,\n",
       " '201201': 0,\n",
       " '201111': 0,\n",
       " '201107': 0,\n",
       " '201106': 0,\n",
       " '200912': 0,\n",
       " '201203': 0,\n",
       " '201008': 0,\n",
       " '201003': 0,\n",
       " '201007': 0,\n",
       " '201211': 0,\n",
       " '201108': 0,\n",
       " '201109': 0,\n",
       " '202101': 0,\n",
       " '202109': 0,\n",
       " '202011': 0,\n",
       " '202107': 0,\n",
       " '202106': 0,\n",
       " '202104': 0,\n",
       " '202010': 0,\n",
       " '202112': 0,\n",
       " '202108': 0,\n",
       " '201610': 0,\n",
       " '201508': 0,\n",
       " '200410': 0,\n",
       " '201204': 0,\n",
       " '201909': 0,\n",
       " '201807': 0,\n",
       " '201712': 0,\n",
       " '201709': 0,\n",
       " '201503': 0,\n",
       " '201502': 0,\n",
       " '201312': 0,\n",
       " '200308': 0,\n",
       " '201209': 0,\n",
       " '202103': 0,\n",
       " '202203': 0,\n",
       " '202102': 0,\n",
       " '201905': 0,\n",
       " '201802': 0,\n",
       " '201607': 0,\n",
       " '201308': 0,\n",
       " '200903': 0,\n",
       " '200902': 0,\n",
       " '201910': 0,\n",
       " '201901': 0,\n",
       " '201809': 0,\n",
       " '201501': 0,\n",
       " '201404': 0,\n",
       " '200703': 0,\n",
       " '200909': 0,\n",
       " '201205': 0,\n",
       " '201206': 0,\n",
       " '202201': 0,\n",
       " '202008': 0,\n",
       " '201405': 0,\n",
       " '200601': 0,\n",
       " '201101': 0,\n",
       " '201009': 0,\n",
       " '202202': 0,\n",
       " '202002': 0,\n",
       " '201903': 0,\n",
       " '201904': 0,\n",
       " '201707': 0,\n",
       " '200802': 0,\n",
       " '201208': 0,\n",
       " '201301': 0,\n",
       " '201303': 0,\n",
       " '201302': 0,\n",
       " '202105': 0,\n",
       " '201906': 0,\n",
       " '202204': 0,\n",
       " '201908': 0,\n",
       " '202006': 0,\n",
       " '201804': 0,\n",
       " '201512': 0,\n",
       " '201810': 0,\n",
       " '201801': 0,\n",
       " '201805': 0,\n",
       " '201710': 0,\n",
       " '201601': 0,\n",
       " '201506': 0,\n",
       " '201507': 0,\n",
       " '201406': 0,\n",
       " '200811': 0,\n",
       " '200710': 0,\n",
       " '200809': 0,\n",
       " '200709': 0,\n",
       " '201012': 0,\n",
       " '202111': 0,\n",
       " '201711': 0,\n",
       " '201702': 0,\n",
       " '201706': 0,\n",
       " '201510': 0,\n",
       " '200605': 0,\n",
       " '200201': 0,\n",
       " '199907': 0,\n",
       " '200804': 0,\n",
       " '201110': 0,\n",
       " '201011': 0,\n",
       " '201704': 0,\n",
       " '201603': 0,\n",
       " '201409': 0,\n",
       " '201401': 0,\n",
       " '200707': 0,\n",
       " '200403': 0,\n",
       " '200510': 0,\n",
       " '200402': 0,\n",
       " '200112': 0,\n",
       " '200312': 0,\n",
       " '200711': 0,\n",
       " '200808': 0,\n",
       " '201112': 0,\n",
       " '202009': 0,\n",
       " '201305': 0,\n",
       " '200307': 0,\n",
       " '200704': 0,\n",
       " '201609': 0,\n",
       " '201511': 0,\n",
       " '201604': 0,\n",
       " '200309': 0,\n",
       " '200506': 0,\n",
       " '202007': 0,\n",
       " '201411': 0,\n",
       " '200407': 0,\n",
       " '200208': 0,\n",
       " '201010': 0,\n",
       " '201410': 0,\n",
       " '200706': 0,\n",
       " '200010': 0,\n",
       " '200507': 0,\n",
       " '201006': 0,\n",
       " '201103': 0,\n",
       " '201212': 0,\n",
       " '202110': 0,\n",
       " '202003': 0,\n",
       " '200209': 0,\n",
       " '200108': 0,\n",
       " '200202': 0,\n",
       " '200801': 0,\n",
       " '200611': 0,\n",
       " '200607': 0,\n",
       " '201104': 0,\n",
       " '202012': 0,\n",
       " '201911': 0,\n",
       " '200206': 0,\n",
       " '200204': 0,\n",
       " '200310': 0,\n",
       " '200807': 0,\n",
       " '201102': 0,\n",
       " '201105': 0,\n",
       " '201812': 0,\n",
       " '200905': 0,\n",
       " '200406': 0,\n",
       " '201701': 0,\n",
       " '200104': 0,\n",
       " '200701': 0}"
      ]
     },
     "execution_count": 12,
     "metadata": {},
     "output_type": "execute_result"
    }
   ],
   "source": [
    "for i in range(0,574) :\n",
    "    for j in month_2:\n",
    "        if j in rt_dict['list'][i]['open_dt'][-2]:\n",
    "            month_starbucks[j] += 1\n",
    "month_starbucks"
   ]
  },
  {
   "cell_type": "code",
   "execution_count": 15,
   "id": "f49fac53",
   "metadata": {
    "scrolled": true
   },
   "outputs": [],
   "source": [
    "st_df = pd.DataFrame(month_starbucks, index=[0])"
   ]
  },
  {
   "cell_type": "code",
   "execution_count": 16,
   "id": "5e4ec189",
   "metadata": {},
   "outputs": [
    {
     "data": {
      "text/html": [
       "<div>\n",
       "<style scoped>\n",
       "    .dataframe tbody tr th:only-of-type {\n",
       "        vertical-align: middle;\n",
       "    }\n",
       "\n",
       "    .dataframe tbody tr th {\n",
       "        vertical-align: top;\n",
       "    }\n",
       "\n",
       "    .dataframe thead th {\n",
       "        text-align: right;\n",
       "    }\n",
       "</style>\n",
       "<table border=\"1\" class=\"dataframe\">\n",
       "  <thead>\n",
       "    <tr style=\"text-align: right;\">\n",
       "      <th></th>\n",
       "      <th>201811</th>\n",
       "      <th>201912</th>\n",
       "      <th>201907</th>\n",
       "      <th>201902</th>\n",
       "      <th>202005</th>\n",
       "      <th>202004</th>\n",
       "      <th>201808</th>\n",
       "      <th>201806</th>\n",
       "      <th>201803</th>\n",
       "      <th>201708</th>\n",
       "      <th>...</th>\n",
       "      <th>200310</th>\n",
       "      <th>200807</th>\n",
       "      <th>201102</th>\n",
       "      <th>201105</th>\n",
       "      <th>201812</th>\n",
       "      <th>200905</th>\n",
       "      <th>200406</th>\n",
       "      <th>201701</th>\n",
       "      <th>200104</th>\n",
       "      <th>200701</th>\n",
       "    </tr>\n",
       "  </thead>\n",
       "  <tbody>\n",
       "    <tr>\n",
       "      <th>0</th>\n",
       "      <td>0</td>\n",
       "      <td>0</td>\n",
       "      <td>0</td>\n",
       "      <td>0</td>\n",
       "      <td>0</td>\n",
       "      <td>0</td>\n",
       "      <td>0</td>\n",
       "      <td>0</td>\n",
       "      <td>0</td>\n",
       "      <td>0</td>\n",
       "      <td>...</td>\n",
       "      <td>0</td>\n",
       "      <td>0</td>\n",
       "      <td>0</td>\n",
       "      <td>0</td>\n",
       "      <td>0</td>\n",
       "      <td>0</td>\n",
       "      <td>0</td>\n",
       "      <td>0</td>\n",
       "      <td>0</td>\n",
       "      <td>0</td>\n",
       "    </tr>\n",
       "  </tbody>\n",
       "</table>\n",
       "<p>1 rows × 205 columns</p>\n",
       "</div>"
      ],
      "text/plain": [
       "   201811  201912  201907  201902  202005  202004  201808  201806  201803  \\\n",
       "0       0       0       0       0       0       0       0       0       0   \n",
       "\n",
       "   201708  ...  200310  200807  201102  201105  201812  200905  200406  \\\n",
       "0       0  ...       0       0       0       0       0       0       0   \n",
       "\n",
       "   201701  200104  200701  \n",
       "0       0       0       0  \n",
       "\n",
       "[1 rows x 205 columns]"
      ]
     },
     "execution_count": 16,
     "metadata": {},
     "output_type": "execute_result"
    }
   ],
   "source": [
    "st_df"
   ]
  },
  {
   "cell_type": "code",
   "execution_count": 17,
   "id": "62b992d1",
   "metadata": {},
   "outputs": [],
   "source": [
    "st_sort=st_df.columns.tolist()"
   ]
  },
  {
   "cell_type": "code",
   "execution_count": 18,
   "id": "9fdd5e5a",
   "metadata": {},
   "outputs": [],
   "source": [
    "st_sort.sort()"
   ]
  },
  {
   "cell_type": "code",
   "execution_count": 19,
   "id": "5b02f136",
   "metadata": {
    "scrolled": true
   },
   "outputs": [],
   "source": [
    "st_df = st_df[st_sort]"
   ]
  },
  {
   "cell_type": "code",
   "execution_count": 20,
   "id": "5efba40b",
   "metadata": {},
   "outputs": [
    {
     "data": {
      "text/html": [
       "<div>\n",
       "<style scoped>\n",
       "    .dataframe tbody tr th:only-of-type {\n",
       "        vertical-align: middle;\n",
       "    }\n",
       "\n",
       "    .dataframe tbody tr th {\n",
       "        vertical-align: top;\n",
       "    }\n",
       "\n",
       "    .dataframe thead th {\n",
       "        text-align: right;\n",
       "    }\n",
       "</style>\n",
       "<table border=\"1\" class=\"dataframe\">\n",
       "  <thead>\n",
       "    <tr style=\"text-align: right;\">\n",
       "      <th></th>\n",
       "      <th>199907</th>\n",
       "      <th>200010</th>\n",
       "      <th>200103</th>\n",
       "      <th>200104</th>\n",
       "      <th>200108</th>\n",
       "      <th>200111</th>\n",
       "      <th>200112</th>\n",
       "      <th>200201</th>\n",
       "      <th>200202</th>\n",
       "      <th>200203</th>\n",
       "      <th>...</th>\n",
       "      <th>202107</th>\n",
       "      <th>202108</th>\n",
       "      <th>202109</th>\n",
       "      <th>202110</th>\n",
       "      <th>202111</th>\n",
       "      <th>202112</th>\n",
       "      <th>202201</th>\n",
       "      <th>202202</th>\n",
       "      <th>202203</th>\n",
       "      <th>202204</th>\n",
       "    </tr>\n",
       "  </thead>\n",
       "  <tbody>\n",
       "    <tr>\n",
       "      <th>0</th>\n",
       "      <td>0</td>\n",
       "      <td>0</td>\n",
       "      <td>0</td>\n",
       "      <td>0</td>\n",
       "      <td>0</td>\n",
       "      <td>0</td>\n",
       "      <td>0</td>\n",
       "      <td>0</td>\n",
       "      <td>0</td>\n",
       "      <td>0</td>\n",
       "      <td>...</td>\n",
       "      <td>0</td>\n",
       "      <td>0</td>\n",
       "      <td>0</td>\n",
       "      <td>0</td>\n",
       "      <td>0</td>\n",
       "      <td>0</td>\n",
       "      <td>0</td>\n",
       "      <td>0</td>\n",
       "      <td>0</td>\n",
       "      <td>0</td>\n",
       "    </tr>\n",
       "  </tbody>\n",
       "</table>\n",
       "<p>1 rows × 205 columns</p>\n",
       "</div>"
      ],
      "text/plain": [
       "   199907  200010  200103  200104  200108  200111  200112  200201  200202  \\\n",
       "0       0       0       0       0       0       0       0       0       0   \n",
       "\n",
       "   200203  ...  202107  202108  202109  202110  202111  202112  202201  \\\n",
       "0       0  ...       0       0       0       0       0       0       0   \n",
       "\n",
       "   202202  202203  202204  \n",
       "0       0       0       0  \n",
       "\n",
       "[1 rows x 205 columns]"
      ]
     },
     "execution_count": 20,
     "metadata": {},
     "output_type": "execute_result"
    }
   ],
   "source": [
    "st_df"
   ]
  },
  {
   "cell_type": "markdown",
   "id": "adb4f742",
   "metadata": {},
   "source": [
    "* chart 그리기"
   ]
  },
  {
   "cell_type": "markdown",
   "id": "ef86a4ad",
   "metadata": {},
   "source": [
    "* 한글 font 지정"
   ]
  },
  {
   "cell_type": "code",
   "execution_count": 114,
   "id": "0f34b041",
   "metadata": {},
   "outputs": [],
   "source": [
    "from matplotlib import font_manager, rc\n",
    "\n",
    "font_path='D:/20220103_lab/14.python/source/malgun.ttf'\n",
    "font_name = font_manager.FontProperties(fname=font_path).get_name()\n",
    "rc('font', family=font_name)"
   ]
  },
  {
   "cell_type": "code",
   "execution_count": 180,
   "id": "0f274a82",
   "metadata": {},
   "outputs": [
    {
     "data": {
      "image/png": "[encoded data removed]",
      "text/plain": [
       "<Figure size 1600x400 with 1 Axes>"
      ]
     },
     "metadata": {},
     "output_type": "display_data"
    }
   ],
   "source": [
    "plt.figure(figsize=(20,5))\n",
    "plt.style.use('seaborn-pastel')\n",
    "plt.title(\"스타벅스 오픈 년월\", fontsize=15) \n",
    "plt.xlabel(\"월\")\n",
    "plt.ylabel(\"오픈 수\")\n",
    "plt.plot(st_df.loc[0].index, st_df.loc[0].values)\n",
    "\n",
    "plt.show()"
   ]
  },
  {
   "cell_type": "markdown",
   "id": "23d6cae7",
   "metadata": {},
   "source": [
    "### 🔍스타벅스 매장이 많이 오픈 된 달은 언제일까?"
   ]
  },
  {
   "cell_type": "code",
   "execution_count": 140,
   "id": "132fe425",
   "metadata": {},
   "outputs": [
    {
     "data": {
      "text/plain": [
       "'06'"
      ]
     },
     "execution_count": 140,
     "metadata": {},
     "output_type": "execute_result"
    }
   ],
   "source": [
    "rt_dict['list'][0]['open_dt'][4:-2]"
   ]
  },
  {
   "cell_type": "code",
   "execution_count": 143,
   "id": "8d77a924",
   "metadata": {},
   "outputs": [
    {
     "name": "stdout",
     "output_type": "stream",
     "text": [
      "['11', '12', '07', '02', '05', '04', '08', '06', '03', '09', '10', '01']\n"
     ]
    }
   ],
   "source": [
    "st_m = []\n",
    "st_m2= []\n",
    "\n",
    "for x in range(1, len(rt_dict['list'])):\n",
    "    st_m.append(rt_dict['list'][x]['open_dt'][4:-2])\n",
    "    for y in st_m:\n",
    "        if y not in st_m2:\n",
    "            st_m2.append(y)\n",
    "print(st_m2)"
   ]
  },
  {
   "cell_type": "code",
   "execution_count": 144,
   "id": "f3890ecd",
   "metadata": {},
   "outputs": [
    {
     "name": "stdout",
     "output_type": "stream",
     "text": [
      "{'11': 0, '12': 0, '07': 0, '02': 0, '05': 0, '04': 0, '08': 0, '06': 0, '03': 0, '09': 0, '10': 0, '01': 0}\n"
     ]
    }
   ],
   "source": [
    "st_sort = {}\n",
    "for x in st_m2:\n",
    "    st_sort[x] = 0\n",
    "print(st_sort)"
   ]
  },
  {
   "cell_type": "code",
   "execution_count": 146,
   "id": "a6c6ce88",
   "metadata": {},
   "outputs": [
    {
     "data": {
      "text/plain": [
       "{'11': 37,\n",
       " '12': 50,\n",
       " '07': 48,\n",
       " '02': 39,\n",
       " '05': 48,\n",
       " '04': 52,\n",
       " '08': 47,\n",
       " '06': 48,\n",
       " '03': 62,\n",
       " '09': 51,\n",
       " '10': 47,\n",
       " '01': 45}"
      ]
     },
     "execution_count": 146,
     "metadata": {},
     "output_type": "execute_result"
    }
   ],
   "source": [
    "for x in range(0,574) :\n",
    "    for y in st_m2:\n",
    "        if y in rt_dict['list'][x]['open_dt'][4:-2]:\n",
    "            st_sort[y] += 1\n",
    "st_sort"
   ]
  },
  {
   "cell_type": "code",
   "execution_count": 148,
   "id": "b9fbe107",
   "metadata": {
    "scrolled": true
   },
   "outputs": [],
   "source": [
    "st_sort_df = pd.DataFrame(st_sort, index=[0])"
   ]
  },
  {
   "cell_type": "code",
   "execution_count": 149,
   "id": "14fb1e61",
   "metadata": {
    "scrolled": true
   },
   "outputs": [
    {
     "data": {
      "text/html": [
       "<div>\n",
       "<style scoped>\n",
       "    .dataframe tbody tr th:only-of-type {\n",
       "        vertical-align: middle;\n",
       "    }\n",
       "\n",
       "    .dataframe tbody tr th {\n",
       "        vertical-align: top;\n",
       "    }\n",
       "\n",
       "    .dataframe thead th {\n",
       "        text-align: right;\n",
       "    }\n",
       "</style>\n",
       "<table border=\"1\" class=\"dataframe\">\n",
       "  <thead>\n",
       "    <tr style=\"text-align: right;\">\n",
       "      <th></th>\n",
       "      <th>11</th>\n",
       "      <th>12</th>\n",
       "      <th>07</th>\n",
       "      <th>02</th>\n",
       "      <th>05</th>\n",
       "      <th>04</th>\n",
       "      <th>08</th>\n",
       "      <th>06</th>\n",
       "      <th>03</th>\n",
       "      <th>09</th>\n",
       "      <th>10</th>\n",
       "      <th>01</th>\n",
       "    </tr>\n",
       "  </thead>\n",
       "  <tbody>\n",
       "    <tr>\n",
       "      <th>0</th>\n",
       "      <td>37</td>\n",
       "      <td>50</td>\n",
       "      <td>48</td>\n",
       "      <td>39</td>\n",
       "      <td>48</td>\n",
       "      <td>52</td>\n",
       "      <td>47</td>\n",
       "      <td>48</td>\n",
       "      <td>62</td>\n",
       "      <td>51</td>\n",
       "      <td>47</td>\n",
       "      <td>45</td>\n",
       "    </tr>\n",
       "  </tbody>\n",
       "</table>\n",
       "</div>"
      ],
      "text/plain": [
       "   11  12  07  02  05  04  08  06  03  09  10  01\n",
       "0  37  50  48  39  48  52  47  48  62  51  47  45"
      ]
     },
     "execution_count": 149,
     "metadata": {},
     "output_type": "execute_result"
    }
   ],
   "source": [
    "st_sort_df"
   ]
  },
  {
   "cell_type": "code",
   "execution_count": 155,
   "id": "4c92ac09",
   "metadata": {},
   "outputs": [
    {
     "data": {
      "text/plain": [
       "0    37\n",
       "Name: 11, dtype: int64"
      ]
     },
     "execution_count": 155,
     "metadata": {},
     "output_type": "execute_result"
    }
   ],
   "source": [
    "st_sort_df.iloc[:, 0]"
   ]
  },
  {
   "cell_type": "code",
   "execution_count": 156,
   "id": "650c650f",
   "metadata": {},
   "outputs": [
    {
     "data": {
      "text/plain": [
       "11    37\n",
       "12    50\n",
       "07    48\n",
       "02    39\n",
       "05    48\n",
       "04    52\n",
       "08    47\n",
       "06    48\n",
       "03    62\n",
       "09    51\n",
       "10    47\n",
       "01    45\n",
       "Name: 0, dtype: int64"
      ]
     },
     "execution_count": 156,
     "metadata": {},
     "output_type": "execute_result"
    }
   ],
   "source": [
    "st_sort_df.iloc[0]"
   ]
  },
  {
   "cell_type": "code",
   "execution_count": 157,
   "id": "04a327fe",
   "metadata": {},
   "outputs": [
    {
     "data": {
      "text/plain": [
       "Index(['11', '12', '07', '02', '05', '04', '08', '06', '03', '09', '10', '01'], dtype='object')"
      ]
     },
     "execution_count": 157,
     "metadata": {},
     "output_type": "execute_result"
    }
   ],
   "source": [
    "st_sort_df.iloc[0].index"
   ]
  },
  {
   "cell_type": "code",
   "execution_count": 158,
   "id": "94c20aab",
   "metadata": {},
   "outputs": [
    {
     "data": {
      "text/plain": [
       "array([37, 50, 48, 39, 48, 52, 47, 48, 62, 51, 47, 45], dtype=int64)"
      ]
     },
     "execution_count": 158,
     "metadata": {},
     "output_type": "execute_result"
    }
   ],
   "source": [
    "st_sort_df.iloc[0].values"
   ]
  },
  {
   "cell_type": "code",
   "execution_count": 175,
   "id": "9867ae3a",
   "metadata": {},
   "outputs": [],
   "source": [
    "from matplotlib import font_manager, rc\n",
    "\n",
    "font_path='D:/20220103_lab/14.python/source/malgun.ttf'\n",
    "font_name = font_manager.FontProperties(fname=font_path).get_name()\n",
    "rc('font', family=font_name)"
   ]
  },
  {
   "cell_type": "code",
   "execution_count": 176,
   "id": "e7039418",
   "metadata": {},
   "outputs": [
    {
     "data": {
      "image/png": "[encoded data removed]",
      "text/plain": [
       "<Figure size 800x400 with 1 Axes>"
      ]
     },
     "metadata": {},
     "output_type": "display_data"
    }
   ],
   "source": [
    "plt.figure(figsize=(10,5))\n",
    "plt.style.use('seaborn-pastel')\n",
    "plt.title(\"스타벅스 오픈 달\", fontsize=15) \n",
    "plt.xlabel(\"월\")\n",
    "plt.ylabel(\"오픈 수\")\n",
    "plt.plot(st_sort_df.iloc[0].index, st_sort_df.iloc[0].values)\n",
    "\n",
    "plt.show()"
   ]
  },
  {
   "cell_type": "code",
   "execution_count": null,
   "id": "3ff2582b",
   "metadata": {},
   "outputs": [],
   "source": []
  }
 ],
 "metadata": {
  "kernelspec": {
   "display_name": "Python 3 (ipykernel)",
   "language": "python",
   "name": "python3"
  },
  "language_info": {
   "codemirror_mode": {
    "name": "ipython",
    "version": 3
   },
   "file_extension": ".py",
   "mimetype": "text/x-python",
   "name": "python",
   "nbconvert_exporter": "python",
   "pygments_lexer": "ipython3",
   "version": "3.9.7"
  }
 },
 "nbformat": 4,
 "nbformat_minor": 5
}
